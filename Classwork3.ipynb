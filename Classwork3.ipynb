{
 "cells": [
  {
   "cell_type": "code",
   "execution_count": 8,
   "id": "ba6f5756",
   "metadata": {},
   "outputs": [],
   "source": [
    "import pandas as pd\n",
    "from sklearn.tree import DecisionTreeClassifier\n",
    "from sklearn.preprocessing import LabelEncoder\n",
    "from sklearn.model_selection import train_test_split"
   ]
  },
  {
   "cell_type": "code",
   "execution_count": 9,
   "id": "8e0ce84a",
   "metadata": {},
   "outputs": [
    {
     "name": "stdout",
     "output_type": "stream",
     "text": [
      "   Id                     Title  Episodes       Year  Original channel  \\\n",
      "0   1             2 Stupid Dogs      26.0  1993-1995               TBS   \n",
      "1   2           3-2-1 Penguins!      27.0  2000-2008   Direct to video   \n",
      "2   3                   3-South      13.0  2002-2003               MTV   \n",
      "3   4  3Below: Tales of Arcadia      28.0  2018-2019           Netflix   \n",
      "4   5                3rd & Bird      51.0  2008-2010  Playhouse Disney   \n",
      "\n",
      "                      American company                   Note    Technique  \\\n",
      "0                        Hanna-Barbera                    NaN  Traditional   \n",
      "1                 Big Idea Productions                    NaN          CGI   \n",
      "2  Warner Bros. AnimationMTV Animation                    NaN  Traditional   \n",
      "3      DreamWorks Animation Television                    NaN          CGI   \n",
      "4          Little Airplane Productions  British co-production        Flash   \n",
      "\n",
      "   IMDb  Google users  \n",
      "0   7.2          0.91  \n",
      "1   6.5          0.91  \n",
      "2   8.0          0.87  \n",
      "3   7.6          0.77  \n",
      "4   7.8          0.92  \n"
     ]
    }
   ],
   "source": [
    "DATA = pd.read_excel('/Users/21car/Downloads/Animated_Tv_Series.xlsx')\n",
    "print(DATA.head())"
   ]
  },
  {
   "cell_type": "code",
   "execution_count": null,
   "id": "4322f6e1",
   "metadata": {},
   "outputs": [],
   "source": []
  }
 ],
 "metadata": {
  "kernelspec": {
   "display_name": "Python 3 (ipykernel)",
   "language": "python",
   "name": "python3"
  },
  "language_info": {
   "codemirror_mode": {
    "name": "ipython",
    "version": 3
   },
   "file_extension": ".py",
   "mimetype": "text/x-python",
   "name": "python",
   "nbconvert_exporter": "python",
   "pygments_lexer": "ipython3",
   "version": "3.11.5"
  }
 },
 "nbformat": 4,
 "nbformat_minor": 5
}
